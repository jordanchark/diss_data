{
  "cells": [
    {
      "cell_type": "markdown",
      "metadata": {
        "id": "xHd523CLT5bI"
      },
      "source": [
        "# Introduction"
      ]
    },
    {
      "cell_type": "markdown",
      "metadata": {
        "id": "HsZRcBTzT5bM"
      },
      "source": [
        "This Jupyter notebook is an implementation, for Jordan Chark's doctoral dissertation, of the model described in:\n",
        "\n",
        "   Ahern, Christopher and Robin Clark. Conflict, Cheap Talk, and Jespersen's Cycle. 2017.\n",
        "\n",
        "The model itself remains unchanged, though its interpretation differs from the original conception somewhat, and it is fitted to an altogether different dataset.\n",
        "\n"
      ]
    },
    {
      "cell_type": "code",
      "execution_count": null,
      "metadata": {
        "colab": {
          "base_uri": "https://localhost:8080/"
        },
        "id": "YKS-BRNqUhDh",
        "outputId": "5ae356f1-07e1-44dd-d334-38335ff593f3"
      },
      "outputs": [
        {
          "output_type": "stream",
          "name": "stdout",
          "text": [
            "Python 3.10.12\n"
          ]
        }
      ],
      "source": [
        "!python --version"
      ]
    },
    {
      "cell_type": "code",
      "execution_count": null,
      "metadata": {
        "colab": {
          "base_uri": "https://localhost:8080/"
        },
        "id": "OUbHtaqkT5bO",
        "outputId": "f363b4d9-bb4b-4702-b16d-58b0cbb0b7a8"
      },
      "outputs": [
        {
          "output_type": "stream",
          "name": "stdout",
          "text": [
            "Python version:  3.10.12 (main, Nov 20 2023, 15:14:05) [GCC 11.4.0]\n",
            "Platform:  linux\n",
            "\n",
            "IPython version:  7.34.0\n",
            "NumPy version:  1.23.5\n",
            "SciPy version:  1.11.4\n"
          ]
        }
      ],
      "source": [
        "import IPython\n",
        "import sys\n",
        "import numpy as np\n",
        "import scipy\n",
        "print('Python version: ', sys.version)\n",
        "print('Platform: ', sys.platform)\n",
        "print()\n",
        "print('IPython version: ', IPython.__version__)\n",
        "print('NumPy version: ', np.__version__)\n",
        "print('SciPy version: ', scipy.__version__)\n"
      ]
    },
    {
      "cell_type": "markdown",
      "metadata": {
        "id": "1BqEtTkPT5bQ"
      },
      "source": [
        "In this section we focus on the prior probability distribution over states and visualize the utility functions used in the game."
      ]
    },
    {
      "cell_type": "markdown",
      "metadata": {
        "id": "cku1f0eiT5bV"
      },
      "source": [
        "# Evolutionarily stable strategies of the signaling game"
      ]
    },
    {
      "cell_type": "markdown",
      "metadata": {
        "id": "Jb8k3614T5bX"
      },
      "source": [
        "We begin by mounting GDrive in order to import the corpus data."
      ]
    },
    {
      "cell_type": "code",
      "execution_count": null,
      "metadata": {
        "colab": {
          "base_uri": "https://localhost:8080/"
        },
        "id": "XeaiUtHXCy1D",
        "outputId": "bda47a8f-2dcd-4d5e-ec62-d5ba484cb675"
      },
      "outputs": [
        {
          "output_type": "stream",
          "name": "stdout",
          "text": [
            "Mounted at /content/drive\n"
          ]
        }
      ],
      "source": [
        "from google.colab import drive\n",
        "drive.mount('/content/drive')"
      ]
    },
    {
      "cell_type": "markdown",
      "metadata": {
        "id": "fdVSScdUT5bY"
      },
      "source": [
        "# Dynamics"
      ]
    },
    {
      "cell_type": "markdown",
      "metadata": {
        "id": "HCt4Rq5IT5ba"
      },
      "source": [
        "The data was export using the following code, in accordance with the procedure of Ahern and Clark 2017. The dataset imported ranges temporally from 1780-1910, i.e. 130 years. This is dictated by the constraints of the corpus; though we have data beyond 1910, it is overwhelmingly from two speakers, both male. Thus in order to model the most representative sample possible, I stick to this period."
      ]
    },
    {
      "cell_type": "code",
      "execution_count": null,
      "metadata": {
        "id": "5ZSbchtqT5bb",
        "scrolled": true
      },
      "outputs": [],
      "source": [
        "%%R\n",
        "cycle.data = data.frame(year=rep(0, 131), has.tokens=rep(0,131),\n",
        "                        ones=rep(0, 131), zeros=rep(0, 131))\n",
        "for (i in c(0:131)) {\n",
        "  cycle.data$year[i] = i + 1780 - 1\n",
        "  cycle.data$has.tokens[i] = nrow(present_indicative %>%\n",
        "                                    filter(year == i + 1780 - 1)) > 0\n",
        "  cycle.data$ones[i] = nrow(present_indicative %>%\n",
        "                              filter(year == i + 1780 - 1, response == 1))\n",
        "  cycle.data$zeros[i] = nrow(present_indicative %>%\n",
        "                               filter(year == i + 1780 - 1, response == 0))\n",
        "}\n",
        "\n",
        "write.csv(cycle.data, \"pres-cycle-full.csv\", row.names=F)"
      ]
    },
    {
      "cell_type": "markdown",
      "metadata": {
        "id": "H4pSMztkT5bb"
      },
      "source": [
        "## Defining the evolutionary game dynamics"
      ]
    },
    {
      "cell_type": "markdown",
      "metadata": {
        "id": "Mb9vLcYiT5bb"
      },
      "source": [
        "I refer to the appendix of Ahern and Clark 2017 for the mathematical details. Here we proceed with model fitting. First by defining the dynamics."
      ]
    },
    {
      "cell_type": "code",
      "execution_count": null,
      "metadata": {
        "collapsed": true,
        "id": "qfD8vp6YT5bc"
      },
      "outputs": [],
      "source": [
        "def discrete_time_replicator_dynamics(n_steps, X, Y, A, B, P):\n",
        "    \"\"\"Simulate the discrete-time replicator dynamics.\n",
        "\n",
        "    Parameters\n",
        "    ----------\n",
        "    n_steps : int, the number of discrete time steps to simulate\n",
        "    X : stochastic sender matrix\n",
        "    Y : stochastic receiver matrix\n",
        "    A : sender utility matrix\n",
        "    B : receiver utility matrix\n",
        "    P : prior probability over states matrix\n",
        "\n",
        "    Returns\n",
        "    ----------\n",
        "    X_t : array-like, the state of the sender population at each year\n",
        "    Y_t : array-like, the state of the receiver population at each year\n",
        "    \"\"\"\n",
        "    # Get the number of states\n",
        "    X_nrow = X.shape[0]\n",
        "    # Get the number of messages\n",
        "    X_ncol = X.shape[1]\n",
        "    # Get the number of actions\n",
        "    Y_nrow = Y.shape[0]\n",
        "    Y_ncol = Y.shape[1]\n",
        "    # Create empty arrays to hold flattened matrices for the population over time\n",
        "    X_t = np.empty(shape=(n_steps, X_nrow*X_ncol), dtype=float)\n",
        "    Y_t = np.empty(shape=(n_steps, X_nrow*X_ncol), dtype=float)\n",
        "    # Set the initial state\n",
        "    X_t[0,:] = X.ravel()\n",
        "    Y_t[0,:] = Y.ravel()\n",
        "    # Iterate forward over (n-1) steps\n",
        "    for i in range(1,n_steps):\n",
        "        # Get the previous state\n",
        "        X_prev = X_t[i-1,:].reshape(X_nrow, X_ncol)\n",
        "        Y_prev = Y_t[i-1,:].reshape(Y_nrow, Y_ncol)\n",
        "        # Calculate the scaling factors\n",
        "        E_X = A * Y_prev.T\n",
        "        X_bar = (((A * Y_prev.T) * X_prev.T).diagonal()).T\n",
        "        X_hat = E_X / X_bar\n",
        "        # Calculate probability of states given messages\n",
        "        C = np.divide(np.multiply(P.T, X_prev), (P * X_prev)[0])\n",
        "        E_Y = (B.T * C).T\n",
        "        Y_bar = ((E_Y*Y_prev.T).diagonal()).T\n",
        "        Y_hat = np.divide(E_Y, Y_bar)\n",
        "        # Calculate current states\n",
        "        X_t[i,:] = np.multiply(X_prev, X_hat).ravel()\n",
        "        Y_t[i,:] = np.multiply(Y_prev, Y_hat).ravel()\n",
        "    return X_t, Y_t"
      ]
    },
    {
      "cell_type": "markdown",
      "metadata": {
        "id": "cZHTQ-sYT5bd"
      },
      "source": [
        "The procedure proceeds by defining the individual model components."
      ]
    },
    {
      "cell_type": "code",
      "execution_count": null,
      "metadata": {
        "collapsed": true,
        "id": "TM5ZvXnhT5bd"
      },
      "outputs": [],
      "source": [
        "import numpy as np\n",
        "import pandas as pd\n",
        "from scipy.optimize import minimize\n",
        "from scipy.optimize import brute\n",
        "from scipy.optimize import fmin\n",
        "from scipy.special import beta as beta_func\n",
        "from scipy.special import binom\n",
        "from scipy.special import comb\n",
        "from scipy.stats import chi2\n",
        "from functools import partial\n",
        "\n",
        "import matplotlib.pyplot as plt\n",
        "plt.style.use('ggplot')\n",
        "hfont = {'fontname':'Times New Roman'}\n",
        "\n",
        "\n",
        "def beta_binomial(alpha, beta, n=100):\n",
        "    return np.matrix([comb(n-1,k) * beta_func(k+alpha, n-1-k+beta) / beta_func(alpha,beta)\n",
        "                        for k in range(n)])\n",
        "\n",
        "def U_S(state, action, b):\n",
        "    return 1 - (action - state - (1-state)*b)**2\n",
        "def U_R(state, action):\n",
        "    return 1 - (action - state)**2\n",
        "\n",
        "def t(i, n):\n",
        "    return i/float(n)\n",
        "def a(i, n):\n",
        "    return i/float(n)\n",
        "\n",
        "def sender_matrix(b, number=100):\n",
        "    return np.matrix([[U_S(t(i, number-1), a(j,number-1), b)\n",
        "                       for j in range(number)] for i in range(number)])\n",
        "def receiver_matrix(number=100):\n",
        "    return np.matrix([[U_R(t(i, number-1), a(j,number-1))\n",
        "                       for j in range(number)] for i in range(number)])\n",
        "\n",
        "\n",
        "def construct_initial_state(a_s, b_p, b=0):\n",
        "    \"\"\"Construct the initial state of the model.\n",
        "\n",
        "    Parameters\n",
        "    ----------\n",
        "    a_s, b_p, b : parameters defined in document\n",
        "\n",
        "    Returns\n",
        "    ----------\n",
        "    X0 : array-like, the initial state of the speaker population\n",
        "    Y0 : array-like, the initial state of the hearer population\n",
        "    prior : prior probability over states\n",
        "    \"\"\"\n",
        "    # Define prior probability\n",
        "    a_p = 1\n",
        "    prior = beta_binomial(a_p, b_p)\n",
        "    P = np.repeat(prior, 2, axis=0)\n",
        "    # Define payoff matrices\n",
        "    A = sender_matrix(b)\n",
        "    B = receiver_matrix(    )\n",
        "    # Define speaker population\n",
        "    X0_m2 = beta_binomial(a_s, 1)\n",
        "    X0_m1 = 1 - X0_m2\n",
        "    X0 = np.vstack((X0_m1, X0_m2)).T\n",
        "    # Calculate probability of state given m2\n",
        "    p_ti_m2 = np.multiply(X0[:,1], prior.T)\n",
        "    p_m2 = prior * X0[:,1]\n",
        "    p_t_m2 = p_ti_m2 / p_m2\n",
        "    # Calculate probability of state given m1\n",
        "    p_ti_m1 = np.multiply(X0[:,0], prior.T)\n",
        "    p_m1 = prior * X0[:,0]\n",
        "    p_t_m1 = p_ti_m1 / p_m1\n",
        "    # Calculate expected utility for receiver of action given m1\n",
        "    E_ai_m1 = p_t_m1.T * B\n",
        "    E_a_m1 = E_ai_m1 / E_ai_m1.sum()\n",
        "    # Calculate expected utility for receiver of action given m2\n",
        "    E_ai_m2 = p_t_m2.T * B\n",
        "    E_a_m2 = E_ai_m2 / E_ai_m2.sum()\n",
        "    # Define hearer population\n",
        "    Y0 = np.vstack([E_a_m1, E_a_m2])\n",
        "\n",
        "    return X0, Y0, A, B, prior"
      ]
    },
    {
      "cell_type": "markdown",
      "metadata": {
        "id": "DesQVIOsT5bd"
      },
      "source": [
        "The next step is to simulate the dynamics, this time setting the n_years parameter to 131."
      ]
    },
    {
      "cell_type": "code",
      "execution_count": null,
      "metadata": {
        "collapsed": true,
        "id": "alBnS8haT5bd"
      },
      "outputs": [],
      "source": [
        "def simulate_dynamics(params, n_years=131, time_scale=1, number=130):\n",
        "    \"\"\"Simulate the discrete-time behavioral replicator dynamics for the game.\n",
        "\n",
        "    Parameters\n",
        "    ----------\n",
        "    n_years : int, the number of discrete time steps to simulate\n",
        "    time_scale : int (optional), the number of discrete time steps per year\n",
        "    number : int, (optional), the number of discretized states and actions\n",
        "    params : array-like, parameters that determine starting state of population\n",
        "\n",
        "    Returns\n",
        "    ----------\n",
        "    X_sol : array-like, the state of the speaker population at each year\n",
        "    Y_sol : array-like, the state of the hearer population at each year\n",
        "    prior : prior probability over states\n",
        "    \"\"\"\n",
        "    # Unpack the parameters\n",
        "    a_s, b_p, b = params\n",
        "    # Construct the initial state\n",
        "    X0, Y0, A, B, prior = construct_initial_state(a_s, b_p, b)\n",
        "    # Create prior probability matrix\n",
        "    P = np.repeat(prior, 2, axis=0)\n",
        "    # Iterate using dynamics to get values for the number of years\n",
        "    X_sol, Y_sol = discrete_time_replicator_dynamics(\n",
        "                            n_years*time_scale, X0, Y0, A, B, P)\n",
        "    X_sol = X_sol[0::time_scale,:]\n",
        "    Y_sol = Y_sol[0::time_scale,:]\n",
        "    return X_sol, Y_sol, prior"
      ]
    },
    {
      "cell_type": "markdown",
      "metadata": {
        "id": "m286mwe5T5be"
      },
      "source": [
        "## Fitting the dynamic model to historical corpus data"
      ]
    },
    {
      "cell_type": "markdown",
      "metadata": {
        "id": "EkytBMNTT5be"
      },
      "source": [
        "The procedure continues: we read in the data and define a loss function, corresponding to the negative log-likelihood for the parameters in question."
      ]
    },
    {
      "cell_type": "code",
      "execution_count": null,
      "metadata": {
        "collapsed": true,
        "id": "2yu4qwCvT5be"
      },
      "outputs": [],
      "source": [
        "func_data = pd.read_csv('/content/drive/MyDrive/colab/new_april/pres-cycle-full.csv')\n",
        "\n",
        "def loss_function(params, func=simulate_dynamics, time_scale=1, df=func_data):\n",
        "    \"\"\"Calculate the loss function.\n",
        "\n",
        "    Parameters\n",
        "    ----------\n",
        "    params : array-like, parameters that determine starting state of population\n",
        "    func : model begin fit to the data\n",
        "    time_scale : int (optional), the number of discrete time steps per year\n",
        "    number : int, (optional), the number of discretized states and actions\n",
        "             default is one \"generation\" of the dynamics per year\n",
        "    df : data to use, default is from func_data\n",
        "\n",
        "    Returns\n",
        "    ----------\n",
        "    negLL : float, negative log likelihood to be minimized\n",
        "    \"\"\"\n",
        "    # Simulate the dynamics\n",
        "    X_sol, Y_sol, prior = func(params, n_years=131, time_scale=time_scale)\n",
        "    # Get p(m_2) over time\n",
        "    m2_sol = np.asarray([prior.dot(line)[0,0] for line in X_sol[:,1::2]])\n",
        "    # Append solution trajectory to data frame\n",
        "    # Use approximate value when trajectory reaches boundary\n",
        "    df['p'] = np.minimum(m2_sol.ravel(), np.repeat(.9999999, len(m2_sol)))\n",
        "    # Add binomial coefficient\n",
        "    df['binom'] = binom(df.ones + df.zeros, df.ones)\n",
        "    # Calculate log-likelihood for\n",
        "    df['LL'] = np.log(df.binom) + (df.ones * np.log(df.p)) + (df.zeros * np.log(1 - df.p))\n",
        "    # Only use years that have tokens\n",
        "    df = df[df['has.tokens'] == 1]\n",
        "    # Calculate log likelihood given m2_sol\n",
        "    LL = np.sum(df['LL'])\n",
        "    negLL = -1*LL\n",
        "    # Minimizing negative log-likelihood is equivalent to maximizing log-likelihood\n",
        "    return negLL"
      ]
    },
    {
      "cell_type": "markdown",
      "metadata": {
        "id": "ptcxEr17T5be"
      },
      "source": [
        "Now we are finally in a position to calculate the parameters which maximize the models log-likelihood."
      ]
    },
    {
      "cell_type": "code",
      "execution_count": null,
      "metadata": {
        "id": "rRX6TQWyT5bf"
      },
      "outputs": [],
      "source": [
        "rranges = (slice(1, 20, 1), slice(1, 20, 1), slice(0, 1, 0.05))\n",
        "model_results = brute(loss_function, rranges, finish=fmin)"
      ]
    },
    {
      "cell_type": "code",
      "source": [
        "print(model_results)"
      ],
      "metadata": {
        "colab": {
          "base_uri": "https://localhost:8080/"
        },
        "id": "xsliDLYK3ImY",
        "outputId": "c3df3e47-5735-449f-adbe-391b6caf545e"
      },
      "execution_count": null,
      "outputs": [
        {
          "output_type": "stream",
          "name": "stdout",
          "text": [
            "[195.67658319   1.84282872   1.00066901]\n"
          ]
        }
      ]
    },
    {
      "cell_type": "markdown",
      "metadata": {
        "id": "uKYzknRkT5bf"
      },
      "source": [
        "Now the model can be simulated on the basis of these paramater values."
      ]
    },
    {
      "cell_type": "code",
      "execution_count": null,
      "metadata": {
        "id": "v5jcTkm2T5bf"
      },
      "outputs": [],
      "source": [
        "X_sol, Y_sol, prior = simulate_dynamics(model_results)"
      ]
    },
    {
      "cell_type": "code",
      "execution_count": null,
      "metadata": {
        "colab": {
          "base_uri": "https://localhost:8080/"
        },
        "id": "um36Yy5Gxd-_",
        "outputId": "79a1ca37-1dd6-48f5-ac1e-49816586f55b"
      },
      "outputs": [
        {
          "output_type": "stream",
          "name": "stdout",
          "text": [
            "Shape of X_sol: (131, 200)\n",
            "Shape of Y_sol: (131, 200)\n",
            "Shape of prior: (1, 100)\n"
          ]
        }
      ],
      "source": [
        "if isinstance(X_sol, (np.ndarray, pd.DataFrame)):\n",
        "    print(\"Shape of X_sol:\", X_sol.shape)\n",
        "if isinstance(Y_sol, (np.ndarray, pd.DataFrame)):\n",
        "    print(\"Shape of Y_sol:\", Y_sol.shape)\n",
        "if isinstance(prior, (np.ndarray, pd.DataFrame)):\n",
        "    print(\"Shape of prior:\", prior.shape)\n"
      ]
    },
    {
      "cell_type": "markdown",
      "metadata": {
        "id": "hIhRiq-eT5bf"
      },
      "source": [
        "To visualize, we can look at: proportion of new form over time, conditional probability and KL-divergence, i.e. informativity."
      ]
    },
    {
      "cell_type": "code",
      "execution_count": null,
      "metadata": {
        "colab": {
          "base_uri": "https://localhost:8080/",
          "height": 566
        },
        "id": "IQPFOsSIT5bf",
        "outputId": "b31939d6-e570-4850-b83e-806f7819a4b8"
      },
      "outputs": [
        {
          "output_type": "stream",
          "name": "stderr",
          "text": [
            "WARNING:matplotlib.font_manager:findfont: Font family 'Times New Roman' not found.\n",
            "WARNING:matplotlib.font_manager:findfont: Font family 'Times New Roman' not found.\n",
            "WARNING:matplotlib.font_manager:findfont: Font family ['Times New Roman'] not found. Falling back to DejaVu Sans.\n",
            "WARNING:matplotlib.font_manager:findfont: Font family 'Times New Roman' not found.\n",
            "WARNING:matplotlib.font_manager:findfont: Font family 'Times New Roman' not found.\n",
            "WARNING:matplotlib.font_manager:findfont: Font family 'Times New Roman' not found.\n"
          ]
        },
        {
          "output_type": "display_data",
          "data": {
            "text/plain": [
              "<Figure size 640x480 with 1 Axes>"
            ],
            "image/png": "[encoded data removed]"
          },
          "metadata": {}
        }
      ],
      "source": [
        "states = np.linspace(0,1, num=100)\n",
        "timesteps=131\n",
        "\n",
        "m2_sol = [prior.dot(line)[0,0] for line in X_sol[:,1::2]]\n",
        "years = [1780 + item for item in range(131)]\n",
        "\n",
        "plt.plot(years, m2_sol, 'b', linewidth=4, zorder=3)\n",
        "plt.ylim(-.1,1.1)\n",
        "plt.xlim(1780, 1910)\n",
        "plt.xlabel('Year', fontsize=18, **hfont)\n",
        "plt.yticks(np.linspace(0, 1, num=5))\n",
        "plt.ylabel(r'$p(m_{buinn})$', fontsize=18, **hfont)\n",
        "plt.show()"
      ]
    },
    {
      "cell_type": "markdown",
      "source": [
        "We can also simulate for future years, say until 2030."
      ],
      "metadata": {
        "id": "ViKKrBtz6Xy8"
      }
    },
    {
      "cell_type": "code",
      "execution_count": null,
      "metadata": {
        "colab": {
          "base_uri": "https://localhost:8080/",
          "height": 548
        },
        "id": "oQM404Y6LO67",
        "outputId": "66189f2c-dcbf-45e8-91cd-c796dc761826"
      },
      "outputs": [
        {
          "output_type": "stream",
          "name": "stderr",
          "text": [
            "WARNING:matplotlib.font_manager:findfont: Font family 'Times New Roman' not found.\n",
            "WARNING:matplotlib.font_manager:findfont: Font family 'Times New Roman' not found.\n",
            "WARNING:matplotlib.font_manager:findfont: Font family 'Times New Roman' not found.\n",
            "WARNING:matplotlib.font_manager:findfont: Font family 'Times New Roman' not found.\n",
            "WARNING:matplotlib.font_manager:findfont: Font family 'Times New Roman' not found.\n"
          ]
        },
        {
          "output_type": "display_data",
          "data": {
            "text/plain": [
              "<Figure size 640x480 with 1 Axes>"
            ],
            "image/png": "[encoded data removed]"
          },
          "metadata": {}
        }
      ],
      "source": [
        "X_sol, Y_sol, prior = simulate_dynamics(model_results, n_years=251)\n",
        "\n",
        "m2_sol = [prior.dot(line)[0,0] for line in X_sol[:,1::2]]\n",
        "years = [1780 + item for item in range(251)]\n",
        "\n",
        "plt.plot(years, m2_sol, 'b', linewidth=4, zorder=3)\n",
        "plt.ylim(-.1,1.1)\n",
        "plt.xlim(1780, 2030)\n",
        "plt.xlabel('Year', fontsize=18, **hfont)\n",
        "plt.yticks(np.linspace(0, 1, num=5))\n",
        "plt.ylabel(r'$p(m_{buinn})$', fontsize=18, **hfont)\n",
        "plt.show()"
      ]
    },
    {
      "cell_type": "markdown",
      "source": [
        "Also informative is the KL-divergence over time."
      ],
      "metadata": {
        "id": "GHiaSvJQ64Gu"
      }
    },
    {
      "cell_type": "code",
      "execution_count": null,
      "metadata": {
        "colab": {
          "base_uri": "https://localhost:8080/",
          "height": 548
        },
        "id": "hMmOE9gBT5bf",
        "outputId": "50b7d187-be28-476d-873f-bdde5df60323"
      },
      "outputs": [
        {
          "output_type": "stream",
          "name": "stderr",
          "text": [
            "WARNING:matplotlib.font_manager:findfont: Font family 'Times New Roman' not found.\n",
            "WARNING:matplotlib.font_manager:findfont: Font family 'Times New Roman' not found.\n",
            "WARNING:matplotlib.font_manager:findfont: Font family 'Times New Roman' not found.\n",
            "WARNING:matplotlib.font_manager:findfont: Font family 'Times New Roman' not found.\n",
            "WARNING:matplotlib.font_manager:findfont: Font family 'Times New Roman' not found.\n"
          ]
        },
        {
          "output_type": "display_data",
          "data": {
            "text/plain": [
              "<Figure size 640x480 with 1 Axes>"
            ],
            "image/png": "[encoded data removed]"
          },
          "metadata": {}
        }
      ],
      "source": [
        "# Define the years for the plot\n",
        "start_year = 1780\n",
        "end_year = 1910\n",
        "\n",
        "# Calculate the index step for each year in X_sol\n",
        "index_step = len(X_sol) // (end_year - start_year + 1)\n",
        "\n",
        "# Get the indices for start and end year\n",
        "index_1780 = (start_year - start_year) * index_step\n",
        "index_1910 = (end_year - start_year) * index_step\n",
        "\n",
        "# Plot for 1800\n",
        "p_ti_m2_1780 = np.multiply(X_sol[index_1780, 1::2], prior)\n",
        "p_m2_1780 = X_sol[index_1780, 1::2] * prior.T\n",
        "p_t_m2_1780 = p_ti_m2_1780 / p_m2_1780\n",
        "plt.plot(states, p_t_m2_1780.tolist()[0], 'b', linewidth=4, label=f\"{start_year} CE\")\n",
        "\n",
        "# Plot for 1900\n",
        "p_ti_m2_1910 = np.multiply(X_sol[index_1910, 1::2], prior)\n",
        "p_m2_1910 = X_sol[index_1910, 1::2] * prior.T\n",
        "p_t_m2_1910 = p_ti_m2_1910 / p_m2_1910\n",
        "plt.plot(states, p_t_m2_1910.tolist()[0], 'b', linewidth=2, label=f\"{end_year} CE\", alpha=0.7)\n",
        "\n",
        "# Plot the prior\n",
        "plt.plot(states, prior.tolist()[0], 'k--', label='Prior')\n",
        "\n",
        "plt.xlabel('States', fontsize=18, **hfont)\n",
        "plt.legend()\n",
        "plt.show()"
      ]
    },
    {
      "cell_type": "code",
      "execution_count": null,
      "metadata": {
        "id": "Q-_F4MmwT5bf"
      },
      "outputs": [],
      "source": [
        "def calculate_KL(p_t_m, prior):\n",
        "    KL = np.sum(np.multiply(np.log(np.divide(p_t_m, prior)), p_t_m))\n",
        "    return KL"
      ]
    },
    {
      "cell_type": "code",
      "execution_count": null,
      "metadata": {
        "id": "C929AO1sjEhz"
      },
      "outputs": [],
      "source": [
        "def calculate_KL(p_t_m, prior):\n",
        "    epsilon = 1e-10  # Small constant to avoid division by zero and log(0)\n",
        "    p_t_m_adj = np.clip(p_t_m, epsilon, 1)\n",
        "    prior_adj = np.clip(prior, epsilon, 1)\n",
        "    KL = np.sum(np.multiply(np.log(np.divide(p_t_m_adj, prior_adj)), p_t_m_adj))\n",
        "    return KL"
      ]
    },
    {
      "cell_type": "code",
      "execution_count": null,
      "metadata": {
        "colab": {
          "base_uri": "https://localhost:8080/",
          "height": 548
        },
        "id": "CRBI6pwQT5bg",
        "outputId": "fba595f8-2680-41c5-bc47-6ee8c034cea0"
      },
      "outputs": [
        {
          "output_type": "stream",
          "name": "stderr",
          "text": [
            "WARNING:matplotlib.font_manager:findfont: Font family 'Times New Roman' not found.\n",
            "WARNING:matplotlib.font_manager:findfont: Font family 'Times New Roman' not found.\n",
            "WARNING:matplotlib.font_manager:findfont: Font family 'Times New Roman' not found.\n",
            "WARNING:matplotlib.font_manager:findfont: Font family 'Times New Roman' not found.\n",
            "WARNING:matplotlib.font_manager:findfont: Font family 'Times New Roman' not found.\n"
          ]
        },
        {
          "output_type": "display_data",
          "data": {
            "text/plain": [
              "<Figure size 640x480 with 1 Axes>"
            ],
            "image/png": "[encoded data removed]"
          },
          "metadata": {}
        }
      ],
      "source": [
        "KL_t = []\n",
        "for i in range(131):\n",
        "    p_ti_m2 = np.multiply(X_sol[i,1::2], prior)\n",
        "    p_m2 =  X_sol[i,1::2] * prior.T\n",
        "    p_t_m2 = p_ti_m2 / p_m2\n",
        "    KL_t.append(calculate_KL(p_t_m2, prior))\n",
        "\n",
        "\n",
        "years = [1780 + item for item in range(131)]\n",
        "\n",
        "plt.plot(years, KL_t, 'b', linewidth=4)\n",
        "plt.ylim(-.1, 3.1)\n",
        "plt.xlim(1780,1910)\n",
        "plt.xlabel('Year', fontsize=18, **hfont)\n",
        "plt.yticks(np.linspace(0, 3, num=7))\n",
        "plt.ylabel(r'$KL(m_{buinn})$', fontsize=18, **hfont)\n",
        "plt.show()"
      ]
    },
    {
      "cell_type": "markdown",
      "metadata": {
        "id": "uWVycRtGT5bg"
      },
      "source": [
        "## Comparison with simplified model"
      ]
    },
    {
      "cell_type": "markdown",
      "metadata": {
        "id": "W1I2cCg3T5bg"
      },
      "source": [
        "Now we can evaluate if a model with a bias parameter is justified by the data. We simulate a simplified model where bias us set to 0."
      ]
    },
    {
      "cell_type": "code",
      "execution_count": null,
      "metadata": {
        "collapsed": true,
        "id": "WeYhxb1VT5bg"
      },
      "outputs": [],
      "source": [
        "def simulate_simplified_dynamics(params, n_years=131, time_scale=1, number=130):\n",
        "    # Unpack the parameters\n",
        "    a_s, b_p = params\n",
        "    # Construct the initial state\n",
        "    X0, Y0, A, B, prior = construct_initial_state(a_s, b_p)\n",
        "    # Create prior probability matrix\n",
        "    P = np.repeat(prior, 2, axis=0)\n",
        "    # Iterate using dynamics to get values for the number of years\n",
        "    X_sol, Y_sol = discrete_time_replicator_dynamics(n_years*time_scale, X0, Y0, A, B, P)\n",
        "    X_sol = X_sol[0::time_scale,:]\n",
        "    Y_sol = Y_sol[0::time_scale,:]\n",
        "    return X_sol, Y_sol, prior"
      ]
    },
    {
      "cell_type": "markdown",
      "source": [
        "And find the best fitting parameters according to a simplified loss function."
      ],
      "metadata": {
        "id": "F-jn5nkf7rZw"
      }
    },
    {
      "cell_type": "code",
      "execution_count": null,
      "metadata": {
        "colab": {
          "base_uri": "https://localhost:8080/"
        },
        "id": "NaC4ExcNT5bg",
        "outputId": "fac51b08-b108-452c-d8aa-ee4490502db1"
      },
      "outputs": [
        {
          "output_type": "stream",
          "name": "stdout",
          "text": [
            "[1.99695323 0.26931047]\n"
          ]
        }
      ],
      "source": [
        "simplified_loss_function = partial(loss_function, func=simulate_simplified_dynamics)\n",
        "rranges = (slice(1, 20, 1), slice(1, 20, 1))\n",
        "simplified_results = brute(simplified_loss_function, rranges, finish=fmin)\n",
        "print(simplified_results)"
      ]
    },
    {
      "cell_type": "markdown",
      "metadata": {
        "id": "L_s5rlKGT5bg"
      },
      "source": [
        "The plot below represents the prior probability over states for these parameters. The model can infer that"
      ]
    },
    {
      "cell_type": "code",
      "execution_count": null,
      "metadata": {
        "colab": {
          "base_uri": "https://localhost:8080/",
          "height": 598
        },
        "id": "-dxxr-cqT5bg",
        "outputId": "5978a5ec-2952-40b3-a232-72e862c6a89a"
      },
      "outputs": [
        {
          "output_type": "stream",
          "name": "stderr",
          "text": [
            "WARNING:matplotlib.font_manager:findfont: Font family 'Times New Roman' not found.\n",
            "WARNING:matplotlib.font_manager:findfont: Font family 'Times New Roman' not found.\n",
            "WARNING:matplotlib.font_manager:findfont: Font family 'Times New Roman' not found.\n",
            "WARNING:matplotlib.font_manager:findfont: Font family 'Times New Roman' not found.\n",
            "WARNING:matplotlib.font_manager:findfont: Font family 'Times New Roman' not found.\n",
            "WARNING:matplotlib.font_manager:findfont: Font family 'Times New Roman' not found.\n",
            "WARNING:matplotlib.font_manager:findfont: Font family 'Times New Roman' not found.\n",
            "WARNING:matplotlib.font_manager:findfont: Font family 'Times New Roman' not found.\n"
          ]
        },
        {
          "output_type": "display_data",
          "data": {
            "text/plain": [
              "<Figure size 640x480 with 1 Axes>"
            ],
            "image/png": "[encoded data removed]"
          },
          "metadata": {}
        }
      ],
      "source": [
        "from scipy.stats import beta\n",
        "x = np.arange (0, 1, 0.01)\n",
        "b_p = simplified_results[1]\n",
        "plt.style.use('ggplot')\n",
        "y = beta.pdf(x, 1, b_p)\n",
        "plt.plot(x, y, linewidth=2)\n",
        "plt.ylabel(\"Probability\", fontsize=15, **hfont)\n",
        "plt.xlabel(\"State\", fontsize=15, **hfont)\n",
        "plt.show()"
      ]
    },
    {
      "cell_type": "markdown",
      "metadata": {
        "id": "Knz3HU5cT5bg"
      },
      "source": [
        "We can also simulate the model with these parameters extending into the future. We observe that the model expects the change to stabilise."
      ]
    },
    {
      "cell_type": "code",
      "execution_count": null,
      "metadata": {
        "colab": {
          "base_uri": "https://localhost:8080/",
          "height": 1000
        },
        "id": "K_AfXCl8T5bh",
        "outputId": "8795965c-7a83-47ca-eff2-44404ea0310a",
        "scrolled": true
      },
      "outputs": [
        {
          "output_type": "stream",
          "name": "stderr",
          "text": [
            "WARNING:matplotlib.font_manager:findfont: Font family 'Times New Roman' not found.\n",
            "WARNING:matplotlib.font_manager:findfont: Font family 'Times New Roman' not found.\n",
            "WARNING:matplotlib.font_manager:findfont: Font family 'Times New Roman' not found.\n",
            "WARNING:matplotlib.font_manager:findfont: Font family 'Times New Roman' not found.\n",
            "WARNING:matplotlib.font_manager:findfont: Font family 'Times New Roman' not found.\n"
          ]
        },
        {
          "output_type": "display_data",
          "data": {
            "text/plain": [
              "<Figure size 640x480 with 1 Axes>"
            ],
            "image/png": "[encoded data removed]"
          },
          "metadata": {}
        },
        {
          "output_type": "stream",
          "name": "stderr",
          "text": [
            "WARNING:matplotlib.font_manager:findfont: Font family 'Times New Roman' not found.\n",
            "WARNING:matplotlib.font_manager:findfont: Font family 'Times New Roman' not found.\n",
            "WARNING:matplotlib.font_manager:findfont: Font family 'Times New Roman' not found.\n",
            "WARNING:matplotlib.font_manager:findfont: Font family 'Times New Roman' not found.\n",
            "WARNING:matplotlib.font_manager:findfont: Font family 'Times New Roman' not found.\n"
          ]
        },
        {
          "output_type": "display_data",
          "data": {
            "text/plain": [
              "<Figure size 640x480 with 1 Axes>"
            ],
            "image/png": "[encoded data removed]"
          },
          "metadata": {}
        }
      ],
      "source": [
        "X_sol, Y_sol, prior = simulate_simplified_dynamics(simplified_results, n_years=231)\n",
        "m2_sol = [prior.dot(line)[0,0] for line in X_sol[:,1::2]]\n",
        "\n",
        "years = [1780 + item for item in range(231)]\n",
        "\n",
        "plt.plot(years[:231], m2_sol[:231], 'b', linewidth=4, zorder=3)\n",
        "plt.ylim(-.1,1.1)\n",
        "plt.xlim(1780, 2010)\n",
        "plt.xlabel('Year', fontsize=18, **hfont)\n",
        "plt.yticks(np.linspace(0, 1, num=5))\n",
        "plt.ylabel(r'$p(m_{ne...not})$', fontsize=18, **hfont)\n",
        "plt.show()\n",
        "\n",
        "plt.plot(years, m2_sol, 'b', linewidth=4, zorder=3)\n",
        "plt.ylim(-.1,1.1)\n",
        "plt.xlabel('Year', fontsize=18, **hfont)\n",
        "plt.yticks(np.linspace(0, 1, num=5))\n",
        "plt.ylabel(r'$p(m_{buinn})$', fontsize=18, **hfont)\n",
        "plt.show()"
      ]
    },
    {
      "cell_type": "markdown",
      "metadata": {
        "id": "sUnAoti1T5bh"
      },
      "source": [
        "Model comparison via AIC. delta_AIC is the difference between the two models."
      ]
    },
    {
      "cell_type": "code",
      "execution_count": null,
      "metadata": {
        "colab": {
          "base_uri": "https://localhost:8080/"
        },
        "id": "Yv59lQs9T5bh",
        "outputId": "3e2c4205-6ff5-41d0-bafb-3601845078be"
      },
      "outputs": [
        {
          "output_type": "stream",
          "name": "stdout",
          "text": [
            "-9.086841090899384\n"
          ]
        }
      ],
      "source": [
        "full_LL = -1 * loss_function(model_results)\n",
        "simple_LL = -1*loss_function(simplified_results, func=simulate_simplified_dynamics)\n",
        "\n",
        "full_AIC = 2*3 - 2*full_LL\n",
        "simple_AIC = 2*2 - 2*simple_LL\n",
        "delta_AIC =  simple_AIC - full_AIC\n",
        "print(delta_AIC)\n"
      ]
    },
    {
      "cell_type": "markdown",
      "metadata": {
        "id": "OMP9dpksT5bh"
      },
      "source": [
        "The simplified model has a higher AIC given by the value above. Accordingly, the probability that the SIMPLIFIED model is better is then equated to its Akaike weight."
      ]
    },
    {
      "cell_type": "code",
      "execution_count": null,
      "metadata": {
        "colab": {
          "base_uri": "https://localhost:8080/"
        },
        "id": "uC3Za5APT5bh",
        "outputId": "120718c4-be46-4a9b-8d11-493f5657b108"
      },
      "outputs": [
        {
          "output_type": "execute_result",
          "data": {
            "text/plain": [
              "0.9894749940178617"
            ]
          },
          "metadata": {},
          "execution_count": 21
        }
      ],
      "source": [
        "1 / (1 + np.exp(.5*delta_AIC))"
      ]
    },
    {
      "cell_type": "markdown",
      "metadata": {
        "id": "-ipspoWnT5bi"
      },
      "source": [
        "Given nested models, a Likelihood Ratio test is possible. Here the test statistic $D$ is $\\chi^2$ distributed with one degree of freedom. Right tailed $\\chi^2$ tells us the probability of observing a test statistic as extreme as D or more extreme, in the right tail of the distribution.\n"
      ]
    },
    {
      "cell_type": "code",
      "execution_count": null,
      "metadata": {
        "colab": {
          "base_uri": "https://localhost:8080/"
        },
        "id": "UrxTLub1xgyL",
        "outputId": "3faa8169-a22b-4393-deab-ba6a5c9c17e7"
      },
      "outputs": [
        {
          "output_type": "stream",
          "name": "stdout",
          "text": [
            "1.0\n"
          ]
        }
      ],
      "source": [
        "from scipy.stats import chi2\n",
        "D = 2*(full_LL - simple_LL)\n",
        "chi2_result = chi2.sf(D,1)\n",
        "print(chi2_result)"
      ]
    },
    {
      "cell_type": "markdown",
      "source": [
        "We can thus NOT REJECT the null hypothesis that the simplified model is more accurate."
      ],
      "metadata": {
        "id": "tE3hjY9i_cRw"
      }
    },
    {
      "cell_type": "markdown",
      "metadata": {
        "id": "_FYgbZ7gT5bi"
      },
      "source": [
        "# References"
      ]
    },
    {
      "cell_type": "markdown",
      "metadata": {
        "id": "DHq3rhTFT5bi"
      },
      "source": [
        "* Jäger, Gerhard, Lars P Metzger & Frank Riedel. 2011. Voronoi languages: Equilibria in cheap-talk games with high-dimensional types and few signals. Games and economic behavior 73(2). 517–537. http://dx.doi.org/10.1016/j.geb.2011.03.008.\n",
        "\n",
        "* Crawford, Vincent P & Joel Sobel. 1982. Strategic information transmission. Econometrica 1431–1451. http://dx.doi.org/10.2307/1913390.\n",
        "\n",
        "* Hofbauer, Josef & Simon M Huttegger. 2015. Selection-mutation dynamics of signaling games. Games 6(1). 2–31. http://dx.doi.org/10.3390/g6010002."
      ]
    }
  ],
  "metadata": {
    "accelerator": "TPU",
    "colab": {
      "provenance": []
    },
    "kernelspec": {
      "display_name": "Python 3",
      "name": "python3"
    },
    "language_info": {
      "name": "python"
    }
  },
  "nbformat": 4,
  "nbformat_minor": 0
}